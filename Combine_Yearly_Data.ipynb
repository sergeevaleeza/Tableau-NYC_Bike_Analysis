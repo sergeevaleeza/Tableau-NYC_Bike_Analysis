{
 "cells": [
  {
   "cell_type": "code",
   "execution_count": 1,
   "metadata": {
    "scrolled": true
   },
   "outputs": [],
   "source": [
    "import os\n",
    "import pandas as pd\n",
    "# program to add all csv files in one folder together into one"
   ]
  },
  {
   "cell_type": "code",
   "execution_count": 2,
   "metadata": {
    "scrolled": true
   },
   "outputs": [],
   "source": [
    "os.chdir('C:\\\\Users\\\\hamst\\\\Desktop\\\\SCHOOL\\\\UCBBEL201902DATA2\\\\20-Tableau\\\\Homework\\\\2013')\n",
    "\n",
    "dfs_2013 = [pd.read_csv(f, parse_dates=[1])\n",
    "        for f in os.listdir(os.getcwd()) if f.endswith('csv')]\n",
    "\n",
    "finaldf_2013 = pd.concat(dfs_2013, join='inner').sort_index()\n",
    "finaldf_2013.to_csv(\"2013_records.csv\", index=False)"
   ]
  },
  {
   "cell_type": "code",
   "execution_count": 3,
   "metadata": {
    "scrolled": true
   },
   "outputs": [],
   "source": [
    "os.chdir('C:\\\\Users\\\\hamst\\\\Desktop\\\\SCHOOL\\\\UCBBEL201902DATA2\\\\20-Tableau\\\\Homework\\\\2014')\n",
    "\n",
    "dfs_2014 = [pd.read_csv(f, index_col=[1], parse_dates=[1])\n",
    "        for f in os.listdir(os.getcwd()) if f.endswith('csv')]\n",
    "\n",
    "finaldf_2014 = pd.concat(dfs_2014, join='inner').sort_index()\n",
    "finaldf_2014.to_csv(\"2014_records.csv\", index=False)"
   ]
  },
  {
   "cell_type": "code",
   "execution_count": 4,
   "metadata": {},
   "outputs": [],
   "source": [
    "os.chdir('C:\\\\Users\\\\hamst\\\\Desktop\\\\SCHOOL\\\\UCBBEL201902DATA2\\\\20-Tableau\\\\Homework\\\\2015')\n",
    "\n",
    "dfs_2015 = [pd.read_csv(f, index_col=[1], parse_dates=[1])\n",
    "        for f in os.listdir(os.getcwd()) if f.endswith('csv')]\n",
    "\n",
    "finaldf_2015 = pd.concat(dfs_2015, join='inner').sort_index()\n",
    "finaldf_2015.to_csv(\"2015_records.csv\", index=False)"
   ]
  },
  {
   "cell_type": "code",
   "execution_count": 8,
   "metadata": {},
   "outputs": [],
   "source": [
    "os.chdir('C:\\\\Users\\\\hamst\\\\Desktop\\\\SCHOOL\\\\UCBBEL201902DATA2\\\\20-Tableau\\\\Homework\\\\2016')\n",
    "\n",
    "dfs_2016 = [pd.read_csv(f, index_col=[1], parse_dates=[1])\n",
    "        for f in os.listdir(os.getcwd()) if f.endswith('csv')]\n",
    "\n",
    "finaldf_2016 = pd.concat(dfs_2016, join='inner').sort_index()\n",
    "finaldf_2016.to_csv(\"2016_records.csv\", index=False)"
   ]
  },
  {
   "cell_type": "code",
   "execution_count": 9,
   "metadata": {},
   "outputs": [],
   "source": [
    "os.chdir('C:\\\\Users\\\\hamst\\\\Desktop\\\\SCHOOL\\\\UCBBEL201902DATA2\\\\20-Tableau\\\\Homework\\\\2017')\n",
    "\n",
    "dfs_2017 = [pd.read_csv(f, index_col=[1], parse_dates=[1])\n",
    "        for f in os.listdir(os.getcwd()) if f.endswith('csv')]\n",
    "\n",
    "finaldf_2017 = pd.concat(dfs_2017, join='inner').sort_index()\n",
    "finaldf_2017.to_csv(\"2017_records.csv\", index=False)"
   ]
  },
  {
   "cell_type": "code",
   "execution_count": 4,
   "metadata": {},
   "outputs": [],
   "source": [
    "os.chdir('C:\\\\Users\\\\hamst\\\\Desktop\\\\SCHOOL\\\\UCBBEL201902DATA2\\\\20-Tableau\\\\Homework\\\\2018')\n",
    "\n",
    "dfs_2018 = [pd.read_csv(f, index_col=[1], parse_dates=[1])\n",
    "        for f in os.listdir(os.getcwd()) if f.endswith('csv')]\n",
    "\n",
    "finaldf_2018 = pd.concat(dfs_2018, join='inner').sort_index()\n",
    "finaldf_2018.to_csv(\"2018_records.csv\", index=False)"
   ]
  },
  {
   "cell_type": "code",
   "execution_count": 5,
   "metadata": {},
   "outputs": [],
   "source": [
    "os.chdir('C:\\\\Users\\\\hamst\\\\Desktop\\\\SCHOOL\\\\UCBBEL201902DATA2\\\\20-Tableau\\\\Homework\\\\2019')\n",
    "\n",
    "dfs_2019 = [pd.read_csv(f, index_col=[1], parse_dates=[1])\n",
    "        for f in os.listdir(os.getcwd()) if f.endswith('csv')]\n",
    "\n",
    "finaldf_2019 = pd.concat(dfs_2019, join='inner').sort_index()\n",
    "finaldf_2019.to_csv(\"2019_records.csv\", index=False)"
   ]
  },
  {
   "cell_type": "code",
   "execution_count": null,
   "metadata": {},
   "outputs": [],
   "source": []
  }
 ],
 "metadata": {
  "kernelspec": {
   "display_name": "Python 3",
   "language": "python",
   "name": "python3"
  },
  "language_info": {
   "codemirror_mode": {
    "name": "ipython",
    "version": 3
   },
   "file_extension": ".py",
   "mimetype": "text/x-python",
   "name": "python",
   "nbconvert_exporter": "python",
   "pygments_lexer": "ipython3",
   "version": "3.6.6"
  }
 },
 "nbformat": 4,
 "nbformat_minor": 2
}
